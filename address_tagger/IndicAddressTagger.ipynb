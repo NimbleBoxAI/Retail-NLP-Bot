{
 "cells": [
  {
   "cell_type": "markdown",
   "id": "e998fe29",
   "metadata": {},
   "source": [
    "# Indian Address Tagger\n",
    "\n",
    "The models is very simple and behaves like an Adapter transformer. The embeddings from a backbone model say `roberta-xlm` is used to train a simple linear kernel. This notebook has the following:\n",
    "- preparation of data\n",
    "- building of linear kernel\n",
    "- train the linear kernel\n",
    "- visualise and check results\n",
    "- save params"
   ]
  },
  {
   "cell_type": "code",
   "execution_count": 22,
   "id": "de046d0b",
   "metadata": {},
   "outputs": [
    {
     "data": {
      "text/plain": [
       "0.46820569222560493"
      ]
     },
     "execution_count": 22,
     "metadata": {},
     "output_type": "execute_result"
    }
   ],
   "source": [
    "import re\n",
    "import random\n",
    "import numpy as np\n",
    "\n",
    "import torch\n",
    "from torch import nn\n",
    "import torch.nn.functional as F\n",
    "from transformers import AutoTokenizer, AutoModel\n",
    "\n",
    "import matplotlib.pyplot as plt\n",
    "%matplotlib inline\n",
    "\n",
    "rand = lambda: random.random()\n",
    "rand()"
   ]
  },
  {
   "cell_type": "code",
   "execution_count": 3,
   "id": "772018fc",
   "metadata": {},
   "outputs": [],
   "source": [
    "# first step is to create the dataset, for more details see addresses.txt\n",
    "with open(\"./addresses.txt\", \"r\") as f:\n",
    "  data = f.read()\n",
    "    \n",
    "with open(\"./names.txt\", \"r\") as f:\n",
    "  names = f.read().split(\"\\n\")\n",
    "\n",
    "data = re.sub(r\"\\s*#.*\\n\", \"\", data) # remove any comments\n",
    "data = re.sub(r\"\\n+\", \"\\n\", data) # remove access newlines\n",
    "splits = re.split(r\"Street:\", data)[1:] # split into parts\n",
    "splits = [f\"Street:{x}\".split(\"\\n\")[:-1] for x in splits] # split address into lines"
   ]
  },
  {
   "cell_type": "code",
   "execution_count": 4,
   "id": "f55596da",
   "metadata": {},
   "outputs": [],
   "source": [
    "# from the splits create the dictionary objects\n",
    "all_=[]\n",
    "for x, n in zip(splits, np.random.choice(names, size = len(splits), replace = False)):\n",
    "  data = {\"name\": n}\n",
    "  for i,s in enumerate(x):\n",
    "    splitter = \":\" if i < 3 else \"  \"\n",
    "    data[s.split(splitter)[0].strip()] = s.split(splitter)[1].strip()\n",
    "  all_.append(data)"
   ]
  },
  {
   "cell_type": "code",
   "execution_count": 5,
   "id": "0fdc1081",
   "metadata": {},
   "outputs": [
    {
     "data": {
      "text/plain": [
       "{'name': 'Parikshit Merchant',\n",
       " 'Street': '157/1, St Patricks Complex, 157/1,stpatrickscplx,brgdrdblr-25, Brigade Road',\n",
       " 'City': 'Bangalore',\n",
       " 'State/province/area': 'Karnataka',\n",
       " 'Phone number': '25913579',\n",
       " 'Zip code': '560025',\n",
       " 'Country calling code': '+91',\n",
       " 'Country': 'India'}"
      ]
     },
     "execution_count": 5,
     "metadata": {},
     "output_type": "execute_result"
    }
   ],
   "source": [
    "random.choice(all_)"
   ]
  },
  {
   "cell_type": "code",
   "execution_count": 2,
   "id": "0e20a944",
   "metadata": {},
   "outputs": [],
   "source": [
    "MODEL = \"distilbert-base-cased\""
   ]
  },
  {
   "cell_type": "code",
   "execution_count": 6,
   "id": "dfc2edf9",
   "metadata": {},
   "outputs": [],
   "source": [
    "# define the backbone models\n",
    "tokenizer = AutoTokenizer.from_pretrained(MODEL)\n",
    "model = AutoModel.from_pretrained(MODEL)"
   ]
  },
  {
   "cell_type": "code",
   "execution_count": 7,
   "id": "912bc64f",
   "metadata": {},
   "outputs": [],
   "source": [
    "def get_sample(x):\n",
    "  # pass a random sample and return a formed sample\n",
    "  text = \"\"\n",
    "\n",
    "  # add name\n",
    "  if rand() > 0.5:\n",
    "    if rand() > 0.5:\n",
    "      text += \"From: \"\n",
    "    text += x[\"name\"] + \", \"\n",
    "\n",
    "  # add address\n",
    "  if rand() > 0.7:\n",
    "    _s = random.choice([' ','\\n'])\n",
    "    text += f\"{_s}Address: \"\n",
    "  text += x[\"Street\"] + \", \" + x[\"City\"]\n",
    "  if rand() > 0.2:\n",
    "    text += \", \" + x[\"State/province/area\"]\n",
    "  text += \"-\" + x[\"Zip code\"]\n",
    "\n",
    "  # add phone number\n",
    "  phone_text = \"\"\n",
    "  if rand() > 0.3:\n",
    "    _s = random.choice([' ','\\n'])\n",
    "    _p = random.choice(['Phone Number','Mobile'])\n",
    "    phone_text += f\"{_s}{_p}: \"\n",
    "  if rand() > 0.9:\n",
    "    phone_text += \" +91-\"\n",
    "  if phone_text:\n",
    "    text += phone_text + x[\"Phone number\"]\n",
    "  else:\n",
    "    _s = random.choice([', ','\\n'])\n",
    "    text += _s + x[\"Phone number\"]\n",
    "\n",
    "  # tokenize and get spans\n",
    "  text = text.strip()\n",
    "  \n",
    "  # name span\n",
    "  try:\n",
    "    span_name = text.index(x[\"name\"])\n",
    "    span_name = (span_name, span_name + len(x[\"name\"]))\n",
    "  except ValueError:\n",
    "    span_name = None\n",
    "\n",
    "  # address span\n",
    "  span_add = text.index(x[\"Street\"])\n",
    "  span_add = (span_add, span_add+len(x[\"Street\"]))\n",
    "  span_city = text.index(x[\"City\"])\n",
    "  span_city = (span_city, span_city+len(x[\"City\"]))\n",
    "  try:\n",
    "    span_state = text.index(x[\"State/province/area\"])\n",
    "    span_state = (span_state, span_state+len(x[\"State/province/area\"]))\n",
    "  except ValueError:\n",
    "    span_state = None\n",
    "  span_pin = text.index(x[\"Zip code\"])\n",
    "  span_pin = (span_pin, span_pin+len(x[\"Zip code\"]))\n",
    "  \n",
    "  # phone span\n",
    "  span_phone = text.index(x[\"Phone number\"])\n",
    "  span_phone = (span_phone, span_phone+len(x[\"Phone number\"]))\n",
    "  \n",
    "  # create the dictionary\n",
    "  data = {\n",
    "    t:s\n",
    "    for t, s in zip(\n",
    "      [\"name\", \"address\", \"city\", \"state\", \"pincode\", \"phone\"],\n",
    "      [span_name, span_add, span_city, span_state, span_pin, span_phone]\n",
    "    )\n",
    "  }\n",
    "  data[\"text\"] = text\n",
    "  return data\n",
    "\n",
    "def visualiser(data):\n",
    "  # print the data from get_sample(...)\n",
    "  text = data[\"text\"]\n",
    "  print(text)\n",
    "  print(\"-\" * 70)\n",
    "  for t,s in data.items():\n",
    "    if t == \"text\":\n",
    "      continue\n",
    "    if s is not None:\n",
    "      print(t, \"-->\", text[s[0]:s[1]])"
   ]
  },
  {
   "cell_type": "code",
   "execution_count": 8,
   "id": "0be478ab",
   "metadata": {},
   "outputs": [
    {
     "name": "stdout",
     "output_type": "stream",
     "text": [
      "2107, Panchratna, Opera House, Mumbai, Maharashtra-400004 Phone Number: 02223614567\n",
      "----------------------------------------------------------------------\n",
      "address --> 2107, Panchratna, Opera House\n",
      "city --> Mumbai\n",
      "state --> Maharashtra\n",
      "pincode --> 400004\n",
      "phone --> 02223614567\n"
     ]
    }
   ],
   "source": [
    "# check\n",
    "sample = get_sample(random.choice(all_))\n",
    "visualiser(sample)"
   ]
  },
  {
   "cell_type": "code",
   "execution_count": 9,
   "id": "f547924b",
   "metadata": {},
   "outputs": [
    {
     "data": {
      "text/plain": [
       "({'null': 0,\n",
       "  'name': 1,\n",
       "  'address': 2,\n",
       "  'city': 3,\n",
       "  'state': 4,\n",
       "  'pincode': 5,\n",
       "  'phone': 6},\n",
       " {0: 'null',\n",
       "  1: 'name',\n",
       "  2: 'address',\n",
       "  3: 'city',\n",
       "  4: 'state',\n",
       "  5: 'pincode',\n",
       "  6: 'phone'})"
      ]
     },
     "execution_count": 9,
     "metadata": {},
     "output_type": "execute_result"
    }
   ],
   "source": [
    "# define the labels, note that we need to provide the \"null\" as no-class\n",
    "TAG_TO_ID = {x:i for i,x in enumerate([\"null\", \"name\", \"address\", \"city\", \"state\", \"pincode\", \"phone\"])}\n",
    "ID_TO_TAG = {v:k for k,v in TAG_TO_ID.items()}\n",
    "TAG_TO_ID, ID_TO_TAG"
   ]
  },
  {
   "cell_type": "code",
   "execution_count": 10,
   "id": "8a7bd1a2",
   "metadata": {},
   "outputs": [],
   "source": [
    "def convert_to_tensors(data):\n",
    "  # this function is used to convert the data packets from get_sample(...)\n",
    "  # into the tensors that are used to train the model\n",
    "  tokenized = tokenizer(data[\"text\"], return_offsets_mapping=True)\n",
    "  offsets = np.array(tokenized[\"offset_mapping\"])\n",
    "  labels = np.zeros(len(tokenized[\"input_ids\"])).astype(int)\n",
    "  for t,s in data.items():\n",
    "    if t != \"text\":\n",
    "      if s is not None:\n",
    "        start = (offsets[:, 0] != s[0]).argmin()\n",
    "        end = (offsets[:, 1] != s[1]).argmin() + 1\n",
    "        labels[start:end] = TAG_TO_ID[t]\n",
    "\n",
    "  # first and last tokens are [CLS] and [SEP] so ignore those\n",
    "  labels[0] = TAG_TO_ID[\"null\"]\n",
    "  labels[-1] = TAG_TO_ID[\"null\"]\n",
    "  \n",
    "  return ({\n",
    "    \"input_ids\": torch.Tensor(tokenized[\"input_ids\"]).long(),\n",
    "    \"attention_mask\": torch.Tensor(tokenized[\"attention_mask\"]).long()\n",
    "  },\n",
    "  torch.from_numpy(labels).long())\n",
    "\n",
    "def decode_predictions(inputs, labels):\n",
    "  # does opposite of convert_to_tensors(...)\n",
    "  ids = inputs[\"input_ids\"]\n",
    "  text = tokenizer.decode(ids[1:-1])\n",
    "  spans = {}\n",
    "  for i,l in enumerate(labels.tolist()):\n",
    "    if l != 0: # ignore null_tokens\n",
    "      if l in spans:\n",
    "        spans[l].append(i)\n",
    "      else:\n",
    "        spans[l] = [i]\n",
    "        \n",
    "  ent = {\n",
    "    ID_TO_TAG[k]: tokenizer.decode(ids[min(v):max(v) + 1])\n",
    "    for k,v in spans.items()\n",
    "  }\n",
    "  \n",
    "  for tag in TAG_TO_ID:\n",
    "    if tag != \"null\" and tag not in ent:\n",
    "      ent[tag] = None\n",
    "  \n",
    "  return {\n",
    "    \"text\": text,\n",
    "    \"entities\": ent\n",
    "  }"
   ]
  },
  {
   "cell_type": "code",
   "execution_count": 11,
   "id": "ff96f3ed",
   "metadata": {},
   "outputs": [
    {
     "name": "stdout",
     "output_type": "stream",
     "text": [
      "2107, Panchratna, Opera House, Mumbai, Maharashtra-400004 Phone Number: 02223614567\n"
     ]
    },
    {
     "data": {
      "text/plain": [
       "{'text': '2107, Panchratna, Opera House, Mumbai, Maharashtra - 400004 Phone Number : 02223614567',\n",
       " 'entities': {'address': '2107, Panchratna, Opera House',\n",
       "  'city': 'Mumbai',\n",
       "  'state': 'Maharashtra',\n",
       "  'pincode': '400004',\n",
       "  'phone': '02223614567',\n",
       "  'name': None}}"
      ]
     },
     "execution_count": 11,
     "metadata": {},
     "output_type": "execute_result"
    }
   ],
   "source": [
    "# check\n",
    "print(sample[\"text\"])\n",
    "inputs, targets = convert_to_tensors(sample)\n",
    "decode_predictions(inputs, targets)"
   ]
  },
  {
   "cell_type": "markdown",
   "id": "f4357c47",
   "metadata": {},
   "source": [
    "Now that data preparation is functions are ready we apply this on the entire data."
   ]
  },
  {
   "cell_type": "code",
   "execution_count": 12,
   "id": "6e1f063d",
   "metadata": {},
   "outputs": [
    {
     "data": {
      "text/plain": [
       "{'name': (0, 19),\n",
       " 'address': (31, 69),\n",
       " 'city': (71, 77),\n",
       " 'state': (79, 90),\n",
       " 'pincode': (91, 97),\n",
       " 'phone': (98, 109),\n",
       " 'text': 'Bhishma Saeed Murti,  Address: 302, Aniket Bldg, Kolbad, Thane (west), Mumbai, Maharashtra-400601\\n02225478536'}"
      ]
     },
     "execution_count": 12,
     "metadata": {},
     "output_type": "execute_result"
    }
   ],
   "source": [
    "# create samples\n",
    "samples = [get_sample(x) for x in all_]\n",
    "random.choice(samples)"
   ]
  },
  {
   "cell_type": "code",
   "execution_count": 13,
   "id": "58fd7cc0",
   "metadata": {},
   "outputs": [
    {
     "name": "stdout",
     "output_type": "stream",
     "text": [
      "({'input_ids': tensor([  101,   140,   118, 20818,   117,   157,  1204,  1665,  9825,  1665,\n",
      "          117, 17037, 26281,  4638,   117,  8601,   118,  3434, 20829,  1571,\n",
      "        26385,  7421,   131,  5507, 20581,  1559,  1545,  1604, 24606, 20829,\n",
      "          102]), 'attention_mask': tensor([1, 1, 1, 1, 1, 1, 1, 1, 1, 1, 1, 1, 1, 1, 1, 1, 1, 1, 1, 1, 1, 1, 1, 1,\n",
      "        1, 1, 1, 1, 1, 1, 1])}, tensor([0, 2, 2, 2, 2, 2, 2, 2, 2, 2, 2, 2, 2, 2, 0, 3, 0, 5, 5, 5, 0, 0, 0, 6,\n",
      "        6, 6, 6, 6, 6, 6, 0]))\n"
     ]
    }
   ],
   "source": [
    "# convert to tensors\n",
    "ds = [convert_to_tensors(x) for x in samples]\n",
    "print(random.choice(ds))"
   ]
  },
  {
   "cell_type": "code",
   "execution_count": 14,
   "id": "551111e5",
   "metadata": {},
   "outputs": [
    {
     "data": {
      "text/plain": [
       "{'text': 'From : Sankara Narayanaswamy, Aps House, Sant Pura, Nr Police Station, Tilak Nagar, Delhi, Delhi - 110018 Mobile : 01155458057',\n",
       " 'entities': {'name': 'Sankara Narayanaswamy',\n",
       "  'address': 'Aps House, Sant Pura, Nr Police Station, Tilak Nagar',\n",
       "  'state': 'Delhi',\n",
       "  'pincode': '110018',\n",
       "  'phone': '01155458057',\n",
       "  'city': None}}"
      ]
     },
     "execution_count": 14,
     "metadata": {},
     "output_type": "execute_result"
    }
   ],
   "source": [
    "# check\n",
    "inputs, targets = random.choice(ds)\n",
    "decode_predictions(inputs, targets)"
   ]
  },
  {
   "cell_type": "code",
   "execution_count": 15,
   "id": "aee73f02",
   "metadata": {},
   "outputs": [],
   "source": [
    "# convert to padded batches\n",
    "max_length = max([len(x[0][\"input_ids\"]) for x in ds])\n",
    "ds_batched = {\n",
    "  \"input_ids\": torch.zeros(len(ds), max_length).long(),\n",
    "  \"attention_mask\": torch.zeros(len(ds), max_length).long(),\n",
    "}\n",
    "# -100 is ignored by torch.loss method\n",
    "labels = torch.ones(len(ds), max_length).long() * -100\n",
    "for i,x in enumerate(ds):\n",
    "  x, y = x\n",
    "  n = x[\"input_ids\"].shape[0]\n",
    "  ds_batched[\"input_ids\"][i, :n] = x[\"input_ids\"]\n",
    "  ds_batched[\"attention_mask\"][i, :n] = 1\n",
    "  labels[i, :n] = y"
   ]
  },
  {
   "cell_type": "code",
   "execution_count": 16,
   "id": "273cb872",
   "metadata": {},
   "outputs": [
    {
     "data": {
      "text/plain": [
       "({'input_ids': tensor([[  101,   139, 27516,  ...,     0,     0,     0],\n",
       "          [  101, 24930, 18380,  ...,     0,     0,     0],\n",
       "          [  101,   141,  1969,  ...,     0,     0,     0],\n",
       "          ...,\n",
       "          [  101, 10601,   117,  ...,     0,     0,     0],\n",
       "          [  101,  8347,   117,  ...,     0,     0,     0],\n",
       "          [  101,  1622,   131,  ...,     0,     0,     0]]),\n",
       "  'attention_mask': tensor([[1, 1, 1,  ..., 0, 0, 0],\n",
       "          [1, 1, 1,  ..., 0, 0, 0],\n",
       "          [1, 1, 1,  ..., 0, 0, 0],\n",
       "          ...,\n",
       "          [1, 1, 1,  ..., 0, 0, 0],\n",
       "          [1, 1, 1,  ..., 0, 0, 0],\n",
       "          [1, 1, 1,  ..., 0, 0, 0]])},\n",
       " tensor([[   0,    1,    1,  ..., -100, -100, -100],\n",
       "         [   0,    0,    0,  ..., -100, -100, -100],\n",
       "         [   0,    2,    2,  ..., -100, -100, -100],\n",
       "         ...,\n",
       "         [   0,    2,    2,  ..., -100, -100, -100],\n",
       "         [   0,    2,    2,  ..., -100, -100, -100],\n",
       "         [   0,    0,    0,  ..., -100, -100, -100]]))"
      ]
     },
     "execution_count": 16,
     "metadata": {},
     "output_type": "execute_result"
    }
   ],
   "source": [
    "# check if everything looks okay\n",
    "ds_batched, labels"
   ]
  },
  {
   "cell_type": "markdown",
   "id": "aaebac0f",
   "metadata": {},
   "source": [
    "Note that in this notebook we provide a very basic training system, for production system you might want to check your own datasets. However the gist of it remains the same."
   ]
  },
  {
   "cell_type": "code",
   "execution_count": 17,
   "id": "e5299874",
   "metadata": {},
   "outputs": [],
   "source": [
    "# split into test train set\n",
    "# in total we have 120 samples so first 100 -> train and others are test\n",
    "train_batched = {\n",
    "  \"input_ids\": ds_batched[\"input_ids\"][:100],\n",
    "  \"attention_mask\": ds_batched[\"attention_mask\"][:100],\n",
    "}\n",
    "train_labels = labels[:100]\n",
    "test_batched = {\n",
    "  \"input_ids\": ds_batched[\"input_ids\"][100:],\n",
    "  \"attention_mask\": ds_batched[\"attention_mask\"][100:],\n",
    "}\n",
    "test_labels = labels[100:]"
   ]
  },
  {
   "cell_type": "code",
   "execution_count": 18,
   "id": "3bd09eb2",
   "metadata": {},
   "outputs": [],
   "source": [
    "# pass this once and not again for training\n",
    "with torch.no_grad():\n",
    "  train_logits = model(**train_batched).last_hidden_state\n",
    "  test_logits = model(**test_batched).last_hidden_state"
   ]
  },
  {
   "cell_type": "code",
   "execution_count": 19,
   "id": "fea61ad7",
   "metadata": {},
   "outputs": [],
   "source": [
    "# define classifier head\n",
    "class IndicAddressTagger(nn.Module):\n",
    "  def __init__(self, i, c):\n",
    "    super().__init__()\n",
    "    self.w = nn.Parameter(data = torch.normal(mean = 0, std = 0.02, size = [i,c]), requires_grad=True)\n",
    "    self.b = nn.Parameter(data = torch.zeros([c,]))\n",
    "  def forward(self, x):\n",
    "    return x@self.w + self.b"
   ]
  },
  {
   "cell_type": "code",
   "execution_count": 24,
   "id": "be0b0f17",
   "metadata": {},
   "outputs": [
    {
     "name": "stdout",
     "output_type": "stream",
     "text": [
      "Epoch: 25 | Train: 0.729 | Test: 0.712 | Train Acc.: 0.793 | Test Acc.: 0.808\n",
      "Epoch: 50 | Train: 0.438 | Test: 0.425 | Train Acc.: 0.880 | Test Acc.: 0.893\n",
      "Epoch: 75 | Train: 0.319 | Test: 0.309 | Train Acc.: 0.924 | Test Acc.: 0.932\n",
      "Epoch: 100 | Train: 0.254 | Test: 0.245 | Train Acc.: 0.941 | Test Acc.: 0.944\n",
      "Epoch: 125 | Train: 0.213 | Test: 0.205 | Train Acc.: 0.951 | Test Acc.: 0.949\n",
      "Epoch: 150 | Train: 0.184 | Test: 0.178 | Train Acc.: 0.958 | Test Acc.: 0.962\n",
      "Epoch: 175 | Train: 0.162 | Test: 0.157 | Train Acc.: 0.963 | Test Acc.: 0.963\n",
      "Epoch: 200 | Train: 0.146 | Test: 0.142 | Train Acc.: 0.969 | Test Acc.: 0.965\n",
      "Epoch: 225 | Train: 0.132 | Test: 0.129 | Train Acc.: 0.972 | Test Acc.: 0.968\n",
      "Epoch: 250 | Train: 0.121 | Test: 0.119 | Train Acc.: 0.976 | Test Acc.: 0.968\n",
      "Epoch: 275 | Train: 0.112 | Test: 0.111 | Train Acc.: 0.979 | Test Acc.: 0.971\n",
      "Epoch: 300 | Train: 0.104 | Test: 0.104 | Train Acc.: 0.981 | Test Acc.: 0.973\n",
      "Epoch: 325 | Train: 0.097 | Test: 0.098 | Train Acc.: 0.982 | Test Acc.: 0.974\n",
      "Epoch: 350 | Train: 0.091 | Test: 0.092 | Train Acc.: 0.985 | Test Acc.: 0.976\n",
      "Epoch: 375 | Train: 0.085 | Test: 0.088 | Train Acc.: 0.986 | Test Acc.: 0.977\n",
      "Epoch: 400 | Train: 0.081 | Test: 0.084 | Train Acc.: 0.988 | Test Acc.: 0.980\n",
      "Epoch: 425 | Train: 0.076 | Test: 0.080 | Train Acc.: 0.989 | Test Acc.: 0.981\n",
      "Epoch: 450 | Train: 0.073 | Test: 0.077 | Train Acc.: 0.989 | Test Acc.: 0.981\n",
      "Epoch: 475 | Train: 0.069 | Test: 0.075 | Train Acc.: 0.989 | Test Acc.: 0.981\n",
      "Epoch: 500 | Train: 0.066 | Test: 0.072 | Train Acc.: 0.990 | Test Acc.: 0.981\n"
     ]
    }
   ],
   "source": [
    "def accuracy(x, y):\n",
    "  mask = y != -100\n",
    "  corr = sum(x[mask] == y[mask])\n",
    "  return corr / sum(mask)\n",
    "\n",
    "# define the classifier and train the model for 500 steps, logging in between\n",
    "c = IndicAddressTagger(model.config.dim, len(TAG_TO_ID))\n",
    "optim = torch.optim.Adam(c.parameters(), lr = 0.001)\n",
    "test_losses = []\n",
    "train_losses = []\n",
    "for i in range(500):\n",
    "  # train forward pass\n",
    "  flogits = c(train_logits)\n",
    "  flogits_flat = flogits.contiguous().view(-1, flogits.shape[-1])\n",
    "  targets = train_labels.view(-1,)\n",
    "  train_loss = F.cross_entropy(flogits_flat, targets)\n",
    "  train_acc = accuracy(flogits_flat.argmax(-1), targets)\n",
    "  train_losses.append(train_loss)\n",
    "  \n",
    "  # train backward pass\n",
    "  optim.zero_grad()\n",
    "  train_loss.backward()\n",
    "  optim.step()\n",
    "  \n",
    "  # test\n",
    "  with torch.no_grad():\n",
    "    flogits = c(test_logits)\n",
    "    flogits_flat = flogits.contiguous().view(-1, flogits.shape[-1])\n",
    "    targets = test_labels.view(-1,)\n",
    "    test_loss = F.cross_entropy(flogits_flat, targets)\n",
    "    test_acc = accuracy(flogits_flat.argmax(-1), targets)\n",
    "    test_losses.append(test_loss)\n",
    "    \n",
    "  if (i + 1) % 25 == 0:\n",
    "    print(f\"Epoch: {i+1} | Train: {train_loss:.3f} | Test: {test_loss:.3f} | Train Acc.: {train_acc:.3f} | Test Acc.: {test_acc:.3f}\")"
   ]
  },
  {
   "cell_type": "code",
   "execution_count": 25,
   "id": "75c42627",
   "metadata": {},
   "outputs": [
    {
     "data": {
      "text/plain": [
       "<matplotlib.legend.Legend at 0x134950e80>"
      ]
     },
     "execution_count": 25,
     "metadata": {},
     "output_type": "execute_result"
    },
    {
     "data": {
      "image/png": "[encoded data removed]",
      "text/plain": [
       "<Figure size 1440x432 with 1 Axes>"
      ]
     },
     "metadata": {
      "needs_background": "light"
     },
     "output_type": "display_data"
    }
   ],
   "source": [
    "# visualise the results\n",
    "plt.figure(figsize = (20, 6))\n",
    "plt.plot(train_losses)\n",
    "plt.plot(test_losses)\n",
    "plt.legend([\"Train Loss\", \"Test Loss\"])"
   ]
  },
  {
   "cell_type": "code",
   "execution_count": 26,
   "id": "b882551a",
   "metadata": {},
   "outputs": [],
   "source": [
    "def infer(text):\n",
    "  # method to perform inference on input text and return industry standard api\n",
    "  ids = tokenizer(text, return_tensors = \"pt\")\n",
    "  with torch.no_grad():\n",
    "    logits = model(**ids).last_hidden_state\n",
    "    logits = c(logits)\n",
    "    labels = logits.argmax(-1)\n",
    "  ids = {k:v[0] for k,v in ids.items()}\n",
    "  out = decode_predictions(ids, labels[0])\n",
    "  \n",
    "  # convert to industry standard response\n",
    "  text = out[\"text\"]\n",
    "  entities = []\n",
    "  for ent in out[\"entities\"]:\n",
    "    if out[\"entities\"][ent] is None:\n",
    "      data = {\n",
    "        \"text\": None,\n",
    "        \"start\": 0,\n",
    "        \"end\": 0,\n",
    "        \"entity\": ent\n",
    "      }\n",
    "    else:\n",
    "      data = {\n",
    "        \"text\": out[\"entities\"][ent],\n",
    "        \"start\": text.index(out[\"entities\"][ent]),\n",
    "        \"end\": text.index(out[\"entities\"][ent]) + len(out[\"entities\"][ent]),\n",
    "        \"entity\": ent\n",
    "      }\n",
    "    entities.append(data)\n",
    "  return {\n",
    "    \"text\": text,\n",
    "    \"entities\": entities\n",
    "  }"
   ]
  },
  {
   "cell_type": "code",
   "execution_count": 29,
   "id": "f658a5b0",
   "metadata": {},
   "outputs": [
    {
     "data": {
      "text/plain": [
       "{'text': 'By : Ankush Agarwal, Fl. 4, Seaside Apartment, Airoli, Mumbai, Maharashtra Mobile : 9834529842',\n",
       " 'entities': [{'text': 'Ankush Agarwal',\n",
       "   'start': 5,\n",
       "   'end': 19,\n",
       "   'entity': 'name'},\n",
       "  {'text': 'Fl. 4, Seaside Apartment, Airoli',\n",
       "   'start': 21,\n",
       "   'end': 53,\n",
       "   'entity': 'address'},\n",
       "  {'text': 'Mumbai', 'start': 55, 'end': 61, 'entity': 'city'},\n",
       "  {'text': 'Maharashtra', 'start': 63, 'end': 74, 'entity': 'state'},\n",
       "  {'text': '9834529842', 'start': 84, 'end': 94, 'entity': 'phone'},\n",
       "  {'text': None, 'start': 0, 'end': 0, 'entity': 'pincode'}]}"
      ]
     },
     "execution_count": 29,
     "metadata": {},
     "output_type": "execute_result"
    }
   ],
   "source": [
    "# test any random string\n",
    "infer(\"By: Ankush Agarwal, Fl. 4, Seaside Apartment, Airoli, Mumbai, Maharashtra \\n\\n Mobile : 9834529842\")"
   ]
  },
  {
   "cell_type": "code",
   "execution_count": 30,
   "id": "499d77ad",
   "metadata": {},
   "outputs": [],
   "source": [
    "# save the weights and exit\n",
    "ws = np.vstack([c.w.detach().numpy(), c.b.view(1, c.b.shape[-1]).detach().numpy()])\n",
    "np.save(\"./params.npy\", ws)"
   ]
  },
  {
   "cell_type": "markdown",
   "id": "bb2bb763",
   "metadata": {},
   "source": [
    "Now we can deploy this thing, check the `run.py` file for a streamlit interactive server."
   ]
  }
 ],
 "metadata": {
  "kernelspec": {
   "display_name": "Python 3",
   "language": "python",
   "name": "python3"
  },
  "language_info": {
   "codemirror_mode": {
    "name": "ipython",
    "version": 3
   },
   "file_extension": ".py",
   "mimetype": "text/x-python",
   "name": "python",
   "nbconvert_exporter": "python",
   "pygments_lexer": "ipython3",
   "version": "3.8.2"
  }
 },
 "nbformat": 4,
 "nbformat_minor": 5
}
